{
 "cells": [
  {
   "cell_type": "code",
   "execution_count": 1,
   "metadata": {
    "colab": {
     "base_uri": "https://localhost:8080/",
     "height": 34
    },
    "id": "Xlmu1YbDkNnA",
    "outputId": "c68ff666-2deb-480c-b137-30ab1654d70a"
   },
   "outputs": [
    {
     "name": "stdout",
     "output_type": "stream",
     "text": [
      "Mounted at /content/drive/\n"
     ]
    }
   ],
   "source": [
    "from google.colab import drive\n",
    "drive.mount('/content/drive/')"
   ]
  },
  {
   "cell_type": "markdown",
   "metadata": {
    "id": "UEch4WsMkoUU"
   },
   "source": [
    "# **패키지 불러오기**"
   ]
  },
  {
   "cell_type": "code",
   "execution_count": 2,
   "metadata": {
    "id": "ctBwHNOskW1z"
   },
   "outputs": [],
   "source": [
    "import pandas as pd\n",
    "import numpy as np\n",
    "import matplotlib.pyplot as plt\n",
    "import seaborn as sns\n",
    "from datetime import datetime as dt\n",
    "from tqdm import tqdm\n"
   ]
  },
  {
   "cell_type": "code",
   "execution_count": 5,
   "metadata": {
    "id": "9O_T5E2yk1kB"
   },
   "outputs": [],
   "source": [
    "import os\n",
    "os.chdir('/content/drive/My Drive/러닝스푼스')"
   ]
  },
  {
   "cell_type": "markdown",
   "metadata": {
    "id": "6GzHKCJ_kwK_"
   },
   "source": [
    "# **데이터 불러오기**"
   ]
  },
  {
   "cell_type": "code",
   "execution_count": 6,
   "metadata": {
    "colab": {
     "base_uri": "https://localhost:8080/",
     "height": 34
    },
    "id": "70rbc0ZAkxlu",
    "outputId": "ead893f6-1517-49bf-82b5-146a82c30fc6"
   },
   "outputs": [
    {
     "name": "stdout",
     "output_type": "stream",
     "text": [
      "(6556613, 9)\n"
     ]
    }
   ],
   "source": [
    "df_train = pd.read_csv('funda_train.csv')\n",
    "df_sub = pd.read_csv('submission.csv')\n",
    "\n",
    "\n",
    "print(df_train.shape)"
   ]
  },
  {
   "cell_type": "code",
   "execution_count": 7,
   "metadata": {
    "colab": {
     "base_uri": "https://localhost:8080/",
     "height": 157
    },
    "id": "L0kXTTHWlBVk",
    "outputId": "d28596a3-fdf8-49fd-db15-b6bbd7007dfc"
   },
   "outputs": [
    {
     "data": {
      "text/html": [
       "<div>\n",
       "<style scoped>\n",
       "    .dataframe tbody tr th:only-of-type {\n",
       "        vertical-align: middle;\n",
       "    }\n",
       "\n",
       "    .dataframe tbody tr th {\n",
       "        vertical-align: top;\n",
       "    }\n",
       "\n",
       "    .dataframe thead th {\n",
       "        text-align: right;\n",
       "    }\n",
       "</style>\n",
       "<table border=\"1\" class=\"dataframe\">\n",
       "  <thead>\n",
       "    <tr style=\"text-align: right;\">\n",
       "      <th></th>\n",
       "      <th>store_id</th>\n",
       "      <th>card_id</th>\n",
       "      <th>card_company</th>\n",
       "      <th>transacted_date</th>\n",
       "      <th>transacted_time</th>\n",
       "      <th>installment_term</th>\n",
       "      <th>region</th>\n",
       "      <th>type_of_business</th>\n",
       "      <th>amount</th>\n",
       "    </tr>\n",
       "  </thead>\n",
       "  <tbody>\n",
       "    <tr>\n",
       "      <th>0</th>\n",
       "      <td>0</td>\n",
       "      <td>0</td>\n",
       "      <td>b</td>\n",
       "      <td>2016-06-01</td>\n",
       "      <td>13:13</td>\n",
       "      <td>0</td>\n",
       "      <td>NaN</td>\n",
       "      <td>기타 미용업</td>\n",
       "      <td>1857.142857</td>\n",
       "    </tr>\n",
       "    <tr>\n",
       "      <th>1</th>\n",
       "      <td>0</td>\n",
       "      <td>1</td>\n",
       "      <td>h</td>\n",
       "      <td>2016-06-01</td>\n",
       "      <td>18:12</td>\n",
       "      <td>0</td>\n",
       "      <td>NaN</td>\n",
       "      <td>기타 미용업</td>\n",
       "      <td>857.142857</td>\n",
       "    </tr>\n",
       "    <tr>\n",
       "      <th>2</th>\n",
       "      <td>0</td>\n",
       "      <td>2</td>\n",
       "      <td>c</td>\n",
       "      <td>2016-06-01</td>\n",
       "      <td>18:52</td>\n",
       "      <td>0</td>\n",
       "      <td>NaN</td>\n",
       "      <td>기타 미용업</td>\n",
       "      <td>2000.000000</td>\n",
       "    </tr>\n",
       "  </tbody>\n",
       "</table>\n",
       "</div>"
      ],
      "text/plain": [
       "   store_id  card_id card_company  ... region type_of_business       amount\n",
       "0         0        0            b  ...    NaN           기타 미용업  1857.142857\n",
       "1         0        1            h  ...    NaN           기타 미용업   857.142857\n",
       "2         0        2            c  ...    NaN           기타 미용업  2000.000000\n",
       "\n",
       "[3 rows x 9 columns]"
      ]
     },
     "execution_count": 7,
     "metadata": {
      "tags": []
     },
     "output_type": "execute_result"
    }
   ],
   "source": [
    "df_train.head(3)"
   ]
  },
  {
   "cell_type": "code",
   "execution_count": 8,
   "metadata": {
    "colab": {
     "base_uri": "https://localhost:8080/",
     "height": 301
    },
    "id": "ZhmSiHgFlY7-",
    "outputId": "a7bf42dc-f328-4af0-d415-e96e1d83eed7"
   },
   "outputs": [
    {
     "name": "stdout",
     "output_type": "stream",
     "text": [
      "<class 'pandas.core.frame.DataFrame'>\n",
      "RangeIndex: 6556613 entries, 0 to 6556612\n",
      "Data columns (total 9 columns):\n",
      " #   Column            Dtype  \n",
      "---  ------            -----  \n",
      " 0   store_id          int64  \n",
      " 1   card_id           int64  \n",
      " 2   card_company      object \n",
      " 3   transacted_date   object \n",
      " 4   transacted_time   object \n",
      " 5   installment_term  int64  \n",
      " 6   region            object \n",
      " 7   type_of_business  object \n",
      " 8   amount            float64\n",
      "dtypes: float64(1), int64(3), object(5)\n",
      "memory usage: 450.2+ MB\n"
     ]
    }
   ],
   "source": [
    "df_train.info()"
   ]
  },
  {
   "cell_type": "code",
   "execution_count": 9,
   "metadata": {
    "colab": {
     "base_uri": "https://localhost:8080/",
     "height": 105
    },
    "id": "UbwT_6BzlajM",
    "outputId": "28fdd24e-575e-4c19-de3e-2934c73bdcad"
   },
   "outputs": [
    {
     "name": "stdout",
     "output_type": "stream",
     "text": [
      "store_id : 1967\n",
      "card_company : 8\n",
      "region : 181\n",
      "type_of_business : 146\n",
      "installment_term : 34\n"
     ]
    }
   ],
   "source": [
    "num_store=len(df_train['store_id'].unique())\n",
    "num_card=len(df_train['card_company'].unique())\n",
    "num_region=len(df_train['region'].unique())\n",
    "num_business=len(df_train['type_of_business'].unique())\n",
    "num_installment=len(df_train['installment_term'].unique())\n",
    "\n",
    "print(f'store_id : {num_store}')\n",
    "print(f'card_company : {num_card}')\n",
    "print(f'region : {num_region}')\n",
    "print(f'type_of_business : {num_business}')\n",
    "print(f'installment_term : {num_installment}',end='\\n')"
   ]
  },
  {
   "cell_type": "code",
   "execution_count": 10,
   "metadata": {
    "colab": {
     "base_uri": "https://localhost:8080/",
     "height": 405
    },
    "id": "ryiQWpP6ldIt",
    "outputId": "718d739b-2647-4fb2-cdf8-5ad7df26d4f3"
   },
   "outputs": [
    {
     "data": {
      "text/plain": [
       "<matplotlib.axes._subplots.AxesSubplot at 0x7fed03f5eb00>"
      ]
     },
     "execution_count": 10,
     "metadata": {
      "tags": []
     },
     "output_type": "execute_result"
    },
    {
     "data": {
      "image/png": "[encoded data removed]",
      "text/plain": [
       "<Figure size 864x432 with 1 Axes>"
      ]
     },
     "metadata": {
      "needs_background": "light",
      "tags": []
     },
     "output_type": "display_data"
    }
   ],
   "source": [
    "plt.figure(figsize=(12,6))\n",
    "sns.boxplot(x='amount',data=df_train)\n",
    "#-가 있다?"
   ]
  },
  {
   "cell_type": "code",
   "execution_count": 11,
   "metadata": {
    "colab": {
     "base_uri": "https://localhost:8080/",
     "height": 217
    },
    "id": "reT2Fz5Sle_Z",
    "outputId": "c7f7e9e0-e55b-4a2e-e3d2-76ac6a1ff780"
   },
   "outputs": [
    {
     "data": {
      "text/html": [
       "<div>\n",
       "<style scoped>\n",
       "    .dataframe tbody tr th:only-of-type {\n",
       "        vertical-align: middle;\n",
       "    }\n",
       "\n",
       "    .dataframe tbody tr th {\n",
       "        vertical-align: top;\n",
       "    }\n",
       "\n",
       "    .dataframe thead th {\n",
       "        text-align: right;\n",
       "    }\n",
       "</style>\n",
       "<table border=\"1\" class=\"dataframe\">\n",
       "  <thead>\n",
       "    <tr style=\"text-align: right;\">\n",
       "      <th></th>\n",
       "      <th>store_id</th>\n",
       "      <th>card_id</th>\n",
       "      <th>card_company</th>\n",
       "      <th>transacted_date</th>\n",
       "      <th>transacted_time</th>\n",
       "      <th>installment_term</th>\n",
       "      <th>region</th>\n",
       "      <th>type_of_business</th>\n",
       "      <th>amount</th>\n",
       "    </tr>\n",
       "  </thead>\n",
       "  <tbody>\n",
       "    <tr>\n",
       "      <th>41</th>\n",
       "      <td>0</td>\n",
       "      <td>40</td>\n",
       "      <td>a</td>\n",
       "      <td>2016-06-10</td>\n",
       "      <td>17:26</td>\n",
       "      <td>2</td>\n",
       "      <td>NaN</td>\n",
       "      <td>기타 미용업</td>\n",
       "      <td>-8571.428571</td>\n",
       "    </tr>\n",
       "    <tr>\n",
       "      <th>347</th>\n",
       "      <td>0</td>\n",
       "      <td>285</td>\n",
       "      <td>a</td>\n",
       "      <td>2016-08-04</td>\n",
       "      <td>17:52</td>\n",
       "      <td>0</td>\n",
       "      <td>NaN</td>\n",
       "      <td>기타 미용업</td>\n",
       "      <td>-1857.142857</td>\n",
       "    </tr>\n",
       "    <tr>\n",
       "      <th>731</th>\n",
       "      <td>0</td>\n",
       "      <td>473</td>\n",
       "      <td>g</td>\n",
       "      <td>2016-10-17</td>\n",
       "      <td>10:32</td>\n",
       "      <td>0</td>\n",
       "      <td>NaN</td>\n",
       "      <td>기타 미용업</td>\n",
       "      <td>-2000.000000</td>\n",
       "    </tr>\n",
       "    <tr>\n",
       "      <th>831</th>\n",
       "      <td>0</td>\n",
       "      <td>230</td>\n",
       "      <td>b</td>\n",
       "      <td>2016-11-03</td>\n",
       "      <td>15:36</td>\n",
       "      <td>0</td>\n",
       "      <td>NaN</td>\n",
       "      <td>기타 미용업</td>\n",
       "      <td>-85.714286</td>\n",
       "    </tr>\n",
       "    <tr>\n",
       "      <th>944</th>\n",
       "      <td>0</td>\n",
       "      <td>138</td>\n",
       "      <td>a</td>\n",
       "      <td>2016-11-28</td>\n",
       "      <td>13:21</td>\n",
       "      <td>0</td>\n",
       "      <td>NaN</td>\n",
       "      <td>기타 미용업</td>\n",
       "      <td>-57.142857</td>\n",
       "    </tr>\n",
       "  </tbody>\n",
       "</table>\n",
       "</div>"
      ],
      "text/plain": [
       "     store_id  card_id card_company  ... region type_of_business       amount\n",
       "41          0       40            a  ...    NaN           기타 미용업 -8571.428571\n",
       "347         0      285            a  ...    NaN           기타 미용업 -1857.142857\n",
       "731         0      473            g  ...    NaN           기타 미용업 -2000.000000\n",
       "831         0      230            b  ...    NaN           기타 미용업   -85.714286\n",
       "944         0      138            a  ...    NaN           기타 미용업   -57.142857\n",
       "\n",
       "[5 rows x 9 columns]"
      ]
     },
     "execution_count": 11,
     "metadata": {
      "tags": []
     },
     "output_type": "execute_result"
    }
   ],
   "source": [
    "\n",
    "#환불 정보임을 알 수 있다\n",
    "df_train[df_train['amount']<0][:5]"
   ]
  },
  {
   "cell_type": "code",
   "execution_count": 12,
   "metadata": {
    "colab": {
     "base_uri": "https://localhost:8080/",
     "height": 194
    },
    "id": "fy5ShyChlg7n",
    "outputId": "2228191f-cd61-482f-e209-ae74c6d6b9b0"
   },
   "outputs": [
    {
     "data": {
      "text/plain": [
       "store_id                  0\n",
       "card_id                   0\n",
       "card_company              0\n",
       "transacted_date           0\n",
       "transacted_time           0\n",
       "installment_term          0\n",
       "region              2042766\n",
       "type_of_business    3952609\n",
       "amount                    0\n",
       "dtype: int64"
      ]
     },
     "execution_count": 12,
     "metadata": {
      "tags": []
     },
     "output_type": "execute_result"
    }
   ],
   "source": [
    "df_train.isna().sum()"
   ]
  },
  {
   "cell_type": "code",
   "execution_count": 13,
   "metadata": {
    "colab": {
     "base_uri": "https://localhost:8080/",
     "height": 52
    },
    "id": "b_B2dBCQlivQ",
    "outputId": "333fbead-c25f-43d5-b94a-e70e80f61624"
   },
   "outputs": [
    {
     "name": "stdout",
     "output_type": "stream",
     "text": [
      "region nan data : 0.312\n",
      "type_of_business nan data : 0.603\n"
     ]
    }
   ],
   "source": [
    "print('region nan data :',(df_train.region.isna().sum()/len(df_train)).round(3))\n",
    "print('type_of_business nan data :',(df_train.type_of_business.isna().sum()/len(df_train)).round(3))"
   ]
  },
  {
   "cell_type": "markdown",
   "metadata": {
    "id": "LBvrTkQqlnfB"
   },
   "source": [
    "[알 수 있는 것들]\n",
    "\n",
    "1.데이터 갯수가 60만개 이상 > 보통의 방법으로는 처리시간이 많이 걸림. > store_id로 나눠 생각한다.\n",
    "\n",
    "2.transacted_date와 transacted_time 을 합쳐 datetime 형식으로 바꾼다. > 시계열 데이터 처리를 위한다.\n",
    "\n",
    "3.숫자형 데이터의 describe()를 봤을 때, amount의 음수가 있다.\n",
    "\n",
    "4.시계열 데이터를 위해 월별 데이터를 모은다.\n",
    "\n",
    "5.결측율이 region과 type_of_business 가 각각 30%와 60%를 넘어가며, 채우는데 더 오랜 시간이 걸릴걸로 보아 제거한다."
   ]
  },
  {
   "cell_type": "markdown",
   "metadata": {
    "id": "AHGKwNkYlpwk"
   },
   "source": [
    "# 데이터 전처리"
   ]
  },
  {
   "cell_type": "code",
   "execution_count": 14,
   "metadata": {
    "colab": {
     "base_uri": "https://localhost:8080/",
     "height": 510
    },
    "id": "52HMf1b7lqnE",
    "outputId": "33bf3804-4b01-469f-c018-8787c7a65e83"
   },
   "outputs": [
    {
     "data": {
      "text/html": [
       "<div>\n",
       "<style scoped>\n",
       "    .dataframe tbody tr th:only-of-type {\n",
       "        vertical-align: middle;\n",
       "    }\n",
       "\n",
       "    .dataframe tbody tr th {\n",
       "        vertical-align: top;\n",
       "    }\n",
       "\n",
       "    .dataframe thead th {\n",
       "        text-align: right;\n",
       "    }\n",
       "</style>\n",
       "<table border=\"1\" class=\"dataframe\">\n",
       "  <thead>\n",
       "    <tr style=\"text-align: right;\">\n",
       "      <th></th>\n",
       "      <th>store_id</th>\n",
       "      <th>card_id</th>\n",
       "      <th>card_company</th>\n",
       "      <th>transacted_date</th>\n",
       "      <th>transacted_time</th>\n",
       "      <th>installment_term</th>\n",
       "      <th>region</th>\n",
       "      <th>type_of_business</th>\n",
       "      <th>amount</th>\n",
       "    </tr>\n",
       "  </thead>\n",
       "  <tbody>\n",
       "    <tr>\n",
       "      <th>0</th>\n",
       "      <td>0</td>\n",
       "      <td>0</td>\n",
       "      <td>b</td>\n",
       "      <td>2016-06-01</td>\n",
       "      <td>13:13</td>\n",
       "      <td>0</td>\n",
       "      <td>NaN</td>\n",
       "      <td>기타 미용업</td>\n",
       "      <td>1857.142857</td>\n",
       "    </tr>\n",
       "    <tr>\n",
       "      <th>1</th>\n",
       "      <td>0</td>\n",
       "      <td>1</td>\n",
       "      <td>h</td>\n",
       "      <td>2016-06-01</td>\n",
       "      <td>18:12</td>\n",
       "      <td>0</td>\n",
       "      <td>NaN</td>\n",
       "      <td>기타 미용업</td>\n",
       "      <td>857.142857</td>\n",
       "    </tr>\n",
       "    <tr>\n",
       "      <th>2</th>\n",
       "      <td>0</td>\n",
       "      <td>2</td>\n",
       "      <td>c</td>\n",
       "      <td>2016-06-01</td>\n",
       "      <td>18:52</td>\n",
       "      <td>0</td>\n",
       "      <td>NaN</td>\n",
       "      <td>기타 미용업</td>\n",
       "      <td>2000.000000</td>\n",
       "    </tr>\n",
       "    <tr>\n",
       "      <th>3</th>\n",
       "      <td>0</td>\n",
       "      <td>3</td>\n",
       "      <td>a</td>\n",
       "      <td>2016-06-01</td>\n",
       "      <td>20:22</td>\n",
       "      <td>0</td>\n",
       "      <td>NaN</td>\n",
       "      <td>기타 미용업</td>\n",
       "      <td>7857.142857</td>\n",
       "    </tr>\n",
       "    <tr>\n",
       "      <th>4</th>\n",
       "      <td>0</td>\n",
       "      <td>4</td>\n",
       "      <td>c</td>\n",
       "      <td>2016-06-02</td>\n",
       "      <td>11:06</td>\n",
       "      <td>0</td>\n",
       "      <td>NaN</td>\n",
       "      <td>기타 미용업</td>\n",
       "      <td>2000.000000</td>\n",
       "    </tr>\n",
       "    <tr>\n",
       "      <th>...</th>\n",
       "      <td>...</td>\n",
       "      <td>...</td>\n",
       "      <td>...</td>\n",
       "      <td>...</td>\n",
       "      <td>...</td>\n",
       "      <td>...</td>\n",
       "      <td>...</td>\n",
       "      <td>...</td>\n",
       "      <td>...</td>\n",
       "    </tr>\n",
       "    <tr>\n",
       "      <th>6556608</th>\n",
       "      <td>2136</td>\n",
       "      <td>4663855</td>\n",
       "      <td>d</td>\n",
       "      <td>2019-02-28</td>\n",
       "      <td>23:20</td>\n",
       "      <td>0</td>\n",
       "      <td>제주 제주시</td>\n",
       "      <td>기타 주점업</td>\n",
       "      <td>-4500.000000</td>\n",
       "    </tr>\n",
       "    <tr>\n",
       "      <th>6556609</th>\n",
       "      <td>2136</td>\n",
       "      <td>4663855</td>\n",
       "      <td>d</td>\n",
       "      <td>2019-02-28</td>\n",
       "      <td>23:24</td>\n",
       "      <td>0</td>\n",
       "      <td>제주 제주시</td>\n",
       "      <td>기타 주점업</td>\n",
       "      <td>4142.857143</td>\n",
       "    </tr>\n",
       "    <tr>\n",
       "      <th>6556610</th>\n",
       "      <td>2136</td>\n",
       "      <td>4663489</td>\n",
       "      <td>a</td>\n",
       "      <td>2019-02-28</td>\n",
       "      <td>23:24</td>\n",
       "      <td>0</td>\n",
       "      <td>제주 제주시</td>\n",
       "      <td>기타 주점업</td>\n",
       "      <td>4500.000000</td>\n",
       "    </tr>\n",
       "    <tr>\n",
       "      <th>6556611</th>\n",
       "      <td>2136</td>\n",
       "      <td>4663856</td>\n",
       "      <td>d</td>\n",
       "      <td>2019-02-28</td>\n",
       "      <td>23:27</td>\n",
       "      <td>0</td>\n",
       "      <td>제주 제주시</td>\n",
       "      <td>기타 주점업</td>\n",
       "      <td>571.428571</td>\n",
       "    </tr>\n",
       "    <tr>\n",
       "      <th>6556612</th>\n",
       "      <td>2136</td>\n",
       "      <td>4658616</td>\n",
       "      <td>c</td>\n",
       "      <td>2019-02-28</td>\n",
       "      <td>23:54</td>\n",
       "      <td>0</td>\n",
       "      <td>제주 제주시</td>\n",
       "      <td>기타 주점업</td>\n",
       "      <td>5857.142857</td>\n",
       "    </tr>\n",
       "  </tbody>\n",
       "</table>\n",
       "<p>6556613 rows × 9 columns</p>\n",
       "</div>"
      ],
      "text/plain": [
       "         store_id  card_id card_company  ...  region type_of_business       amount\n",
       "0               0        0            b  ...     NaN           기타 미용업  1857.142857\n",
       "1               0        1            h  ...     NaN           기타 미용업   857.142857\n",
       "2               0        2            c  ...     NaN           기타 미용업  2000.000000\n",
       "3               0        3            a  ...     NaN           기타 미용업  7857.142857\n",
       "4               0        4            c  ...     NaN           기타 미용업  2000.000000\n",
       "...           ...      ...          ...  ...     ...              ...          ...\n",
       "6556608      2136  4663855            d  ...  제주 제주시           기타 주점업 -4500.000000\n",
       "6556609      2136  4663855            d  ...  제주 제주시           기타 주점업  4142.857143\n",
       "6556610      2136  4663489            a  ...  제주 제주시           기타 주점업  4500.000000\n",
       "6556611      2136  4663856            d  ...  제주 제주시           기타 주점업   571.428571\n",
       "6556612      2136  4658616            c  ...  제주 제주시           기타 주점업  5857.142857\n",
       "\n",
       "[6556613 rows x 9 columns]"
      ]
     },
     "execution_count": 14,
     "metadata": {
      "tags": []
     },
     "output_type": "execute_result"
    }
   ],
   "source": [
    "df_train"
   ]
  },
  {
   "cell_type": "code",
   "execution_count": 15,
   "metadata": {
    "id": "xvA98aZelsed"
   },
   "outputs": [],
   "source": [
    "#합치기: 날짜와 시간으로 분리된 변수를 합쳐줍니다 \n",
    "df_train['date']=df_train['transacted_date']+' '+df_train['transacted_time']\n",
    "df_train['date']=pd.to_datetime(df_train['date'])"
   ]
  },
  {
   "cell_type": "code",
   "execution_count": 16,
   "metadata": {
    "colab": {
     "base_uri": "https://localhost:8080/",
     "height": 760
    },
    "id": "2RTMHfmclxBy",
    "outputId": "66a4eaa1-b6e1-4730-8f4b-6f096982c4a8"
   },
   "outputs": [
    {
     "data": {
      "text/html": [
       "<div>\n",
       "<style scoped>\n",
       "    .dataframe tbody tr th:only-of-type {\n",
       "        vertical-align: middle;\n",
       "    }\n",
       "\n",
       "    .dataframe tbody tr th {\n",
       "        vertical-align: top;\n",
       "    }\n",
       "\n",
       "    .dataframe thead th {\n",
       "        text-align: right;\n",
       "    }\n",
       "</style>\n",
       "<table border=\"1\" class=\"dataframe\">\n",
       "  <thead>\n",
       "    <tr style=\"text-align: right;\">\n",
       "      <th></th>\n",
       "      <th>store_id</th>\n",
       "      <th>card_id</th>\n",
       "      <th>card_company</th>\n",
       "      <th>transacted_date</th>\n",
       "      <th>transacted_time</th>\n",
       "      <th>installment_term</th>\n",
       "      <th>region</th>\n",
       "      <th>type_of_business</th>\n",
       "      <th>amount</th>\n",
       "      <th>date</th>\n",
       "    </tr>\n",
       "  </thead>\n",
       "  <tbody>\n",
       "    <tr>\n",
       "      <th>0</th>\n",
       "      <td>0</td>\n",
       "      <td>0</td>\n",
       "      <td>b</td>\n",
       "      <td>2016-06-01</td>\n",
       "      <td>13:13</td>\n",
       "      <td>0</td>\n",
       "      <td>NaN</td>\n",
       "      <td>기타 미용업</td>\n",
       "      <td>1857.142857</td>\n",
       "      <td>2016-06-01 13:13:00</td>\n",
       "    </tr>\n",
       "    <tr>\n",
       "      <th>1</th>\n",
       "      <td>0</td>\n",
       "      <td>1</td>\n",
       "      <td>h</td>\n",
       "      <td>2016-06-01</td>\n",
       "      <td>18:12</td>\n",
       "      <td>0</td>\n",
       "      <td>NaN</td>\n",
       "      <td>기타 미용업</td>\n",
       "      <td>857.142857</td>\n",
       "      <td>2016-06-01 18:12:00</td>\n",
       "    </tr>\n",
       "    <tr>\n",
       "      <th>2</th>\n",
       "      <td>0</td>\n",
       "      <td>2</td>\n",
       "      <td>c</td>\n",
       "      <td>2016-06-01</td>\n",
       "      <td>18:52</td>\n",
       "      <td>0</td>\n",
       "      <td>NaN</td>\n",
       "      <td>기타 미용업</td>\n",
       "      <td>2000.000000</td>\n",
       "      <td>2016-06-01 18:52:00</td>\n",
       "    </tr>\n",
       "    <tr>\n",
       "      <th>3</th>\n",
       "      <td>0</td>\n",
       "      <td>3</td>\n",
       "      <td>a</td>\n",
       "      <td>2016-06-01</td>\n",
       "      <td>20:22</td>\n",
       "      <td>0</td>\n",
       "      <td>NaN</td>\n",
       "      <td>기타 미용업</td>\n",
       "      <td>7857.142857</td>\n",
       "      <td>2016-06-01 20:22:00</td>\n",
       "    </tr>\n",
       "    <tr>\n",
       "      <th>4</th>\n",
       "      <td>0</td>\n",
       "      <td>4</td>\n",
       "      <td>c</td>\n",
       "      <td>2016-06-02</td>\n",
       "      <td>11:06</td>\n",
       "      <td>0</td>\n",
       "      <td>NaN</td>\n",
       "      <td>기타 미용업</td>\n",
       "      <td>2000.000000</td>\n",
       "      <td>2016-06-02 11:06:00</td>\n",
       "    </tr>\n",
       "    <tr>\n",
       "      <th>...</th>\n",
       "      <td>...</td>\n",
       "      <td>...</td>\n",
       "      <td>...</td>\n",
       "      <td>...</td>\n",
       "      <td>...</td>\n",
       "      <td>...</td>\n",
       "      <td>...</td>\n",
       "      <td>...</td>\n",
       "      <td>...</td>\n",
       "      <td>...</td>\n",
       "    </tr>\n",
       "    <tr>\n",
       "      <th>6556608</th>\n",
       "      <td>2136</td>\n",
       "      <td>4663855</td>\n",
       "      <td>d</td>\n",
       "      <td>2019-02-28</td>\n",
       "      <td>23:20</td>\n",
       "      <td>0</td>\n",
       "      <td>제주 제주시</td>\n",
       "      <td>기타 주점업</td>\n",
       "      <td>-4500.000000</td>\n",
       "      <td>2019-02-28 23:20:00</td>\n",
       "    </tr>\n",
       "    <tr>\n",
       "      <th>6556609</th>\n",
       "      <td>2136</td>\n",
       "      <td>4663855</td>\n",
       "      <td>d</td>\n",
       "      <td>2019-02-28</td>\n",
       "      <td>23:24</td>\n",
       "      <td>0</td>\n",
       "      <td>제주 제주시</td>\n",
       "      <td>기타 주점업</td>\n",
       "      <td>4142.857143</td>\n",
       "      <td>2019-02-28 23:24:00</td>\n",
       "    </tr>\n",
       "    <tr>\n",
       "      <th>6556610</th>\n",
       "      <td>2136</td>\n",
       "      <td>4663489</td>\n",
       "      <td>a</td>\n",
       "      <td>2019-02-28</td>\n",
       "      <td>23:24</td>\n",
       "      <td>0</td>\n",
       "      <td>제주 제주시</td>\n",
       "      <td>기타 주점업</td>\n",
       "      <td>4500.000000</td>\n",
       "      <td>2019-02-28 23:24:00</td>\n",
       "    </tr>\n",
       "    <tr>\n",
       "      <th>6556611</th>\n",
       "      <td>2136</td>\n",
       "      <td>4663856</td>\n",
       "      <td>d</td>\n",
       "      <td>2019-02-28</td>\n",
       "      <td>23:27</td>\n",
       "      <td>0</td>\n",
       "      <td>제주 제주시</td>\n",
       "      <td>기타 주점업</td>\n",
       "      <td>571.428571</td>\n",
       "      <td>2019-02-28 23:27:00</td>\n",
       "    </tr>\n",
       "    <tr>\n",
       "      <th>6556612</th>\n",
       "      <td>2136</td>\n",
       "      <td>4658616</td>\n",
       "      <td>c</td>\n",
       "      <td>2019-02-28</td>\n",
       "      <td>23:54</td>\n",
       "      <td>0</td>\n",
       "      <td>제주 제주시</td>\n",
       "      <td>기타 주점업</td>\n",
       "      <td>5857.142857</td>\n",
       "      <td>2019-02-28 23:54:00</td>\n",
       "    </tr>\n",
       "  </tbody>\n",
       "</table>\n",
       "<p>6556613 rows × 10 columns</p>\n",
       "</div>"
      ],
      "text/plain": [
       "         store_id  card_id  ...       amount                date\n",
       "0               0        0  ...  1857.142857 2016-06-01 13:13:00\n",
       "1               0        1  ...   857.142857 2016-06-01 18:12:00\n",
       "2               0        2  ...  2000.000000 2016-06-01 18:52:00\n",
       "3               0        3  ...  7857.142857 2016-06-01 20:22:00\n",
       "4               0        4  ...  2000.000000 2016-06-02 11:06:00\n",
       "...           ...      ...  ...          ...                 ...\n",
       "6556608      2136  4663855  ... -4500.000000 2019-02-28 23:20:00\n",
       "6556609      2136  4663855  ...  4142.857143 2019-02-28 23:24:00\n",
       "6556610      2136  4663489  ...  4500.000000 2019-02-28 23:24:00\n",
       "6556611      2136  4663856  ...   571.428571 2019-02-28 23:27:00\n",
       "6556612      2136  4658616  ...  5857.142857 2019-02-28 23:54:00\n",
       "\n",
       "[6556613 rows x 10 columns]"
      ]
     },
     "execution_count": 16,
     "metadata": {
      "tags": []
     },
     "output_type": "execute_result"
    }
   ],
   "source": [
    "df_train"
   ]
  },
  {
   "cell_type": "code",
   "execution_count": 17,
   "metadata": {
    "colab": {
     "base_uri": "https://localhost:8080/",
     "height": 318
    },
    "id": "Mee7zzvKl0M7",
    "outputId": "ec14868a-1d8c-47c1-c554-0a2ca71c34fd"
   },
   "outputs": [
    {
     "name": "stdout",
     "output_type": "stream",
     "text": [
      "<class 'pandas.core.frame.DataFrame'>\n",
      "RangeIndex: 6556613 entries, 0 to 6556612\n",
      "Data columns (total 10 columns):\n",
      " #   Column            Dtype         \n",
      "---  ------            -----         \n",
      " 0   store_id          int64         \n",
      " 1   card_id           int64         \n",
      " 2   card_company      object        \n",
      " 3   transacted_date   object        \n",
      " 4   transacted_time   object        \n",
      " 5   installment_term  int64         \n",
      " 6   region            object        \n",
      " 7   type_of_business  object        \n",
      " 8   amount            float64       \n",
      " 9   date              datetime64[ns]\n",
      "dtypes: datetime64[ns](1), float64(1), int64(3), object(5)\n",
      "memory usage: 500.2+ MB\n"
     ]
    }
   ],
   "source": [
    "df_train.info()"
   ]
  },
  {
   "cell_type": "code",
   "execution_count": 18,
   "metadata": {
    "id": "ZQD8ZC9nl1xf"
   },
   "outputs": [],
   "source": [
    "#시간을 index로 해줍니다\n",
    "df_train.set_index('date', inplace=True)"
   ]
  },
  {
   "cell_type": "code",
   "execution_count": 19,
   "metadata": {
    "colab": {
     "base_uri": "https://localhost:8080/",
     "height": 790
    },
    "id": "VxxcY3bdl4a9",
    "outputId": "d0ecb953-f7e7-4468-bda3-ea4101250477"
   },
   "outputs": [
    {
     "data": {
      "text/html": [
       "<div>\n",
       "<style scoped>\n",
       "    .dataframe tbody tr th:only-of-type {\n",
       "        vertical-align: middle;\n",
       "    }\n",
       "\n",
       "    .dataframe tbody tr th {\n",
       "        vertical-align: top;\n",
       "    }\n",
       "\n",
       "    .dataframe thead th {\n",
       "        text-align: right;\n",
       "    }\n",
       "</style>\n",
       "<table border=\"1\" class=\"dataframe\">\n",
       "  <thead>\n",
       "    <tr style=\"text-align: right;\">\n",
       "      <th></th>\n",
       "      <th>store_id</th>\n",
       "      <th>card_id</th>\n",
       "      <th>card_company</th>\n",
       "      <th>transacted_date</th>\n",
       "      <th>transacted_time</th>\n",
       "      <th>installment_term</th>\n",
       "      <th>region</th>\n",
       "      <th>type_of_business</th>\n",
       "      <th>amount</th>\n",
       "    </tr>\n",
       "    <tr>\n",
       "      <th>date</th>\n",
       "      <th></th>\n",
       "      <th></th>\n",
       "      <th></th>\n",
       "      <th></th>\n",
       "      <th></th>\n",
       "      <th></th>\n",
       "      <th></th>\n",
       "      <th></th>\n",
       "      <th></th>\n",
       "    </tr>\n",
       "  </thead>\n",
       "  <tbody>\n",
       "    <tr>\n",
       "      <th>2016-06-01 13:13:00</th>\n",
       "      <td>0</td>\n",
       "      <td>0</td>\n",
       "      <td>b</td>\n",
       "      <td>2016-06-01</td>\n",
       "      <td>13:13</td>\n",
       "      <td>0</td>\n",
       "      <td>NaN</td>\n",
       "      <td>기타 미용업</td>\n",
       "      <td>1857.142857</td>\n",
       "    </tr>\n",
       "    <tr>\n",
       "      <th>2016-06-01 18:12:00</th>\n",
       "      <td>0</td>\n",
       "      <td>1</td>\n",
       "      <td>h</td>\n",
       "      <td>2016-06-01</td>\n",
       "      <td>18:12</td>\n",
       "      <td>0</td>\n",
       "      <td>NaN</td>\n",
       "      <td>기타 미용업</td>\n",
       "      <td>857.142857</td>\n",
       "    </tr>\n",
       "    <tr>\n",
       "      <th>2016-06-01 18:52:00</th>\n",
       "      <td>0</td>\n",
       "      <td>2</td>\n",
       "      <td>c</td>\n",
       "      <td>2016-06-01</td>\n",
       "      <td>18:52</td>\n",
       "      <td>0</td>\n",
       "      <td>NaN</td>\n",
       "      <td>기타 미용업</td>\n",
       "      <td>2000.000000</td>\n",
       "    </tr>\n",
       "    <tr>\n",
       "      <th>2016-06-01 20:22:00</th>\n",
       "      <td>0</td>\n",
       "      <td>3</td>\n",
       "      <td>a</td>\n",
       "      <td>2016-06-01</td>\n",
       "      <td>20:22</td>\n",
       "      <td>0</td>\n",
       "      <td>NaN</td>\n",
       "      <td>기타 미용업</td>\n",
       "      <td>7857.142857</td>\n",
       "    </tr>\n",
       "    <tr>\n",
       "      <th>2016-06-02 11:06:00</th>\n",
       "      <td>0</td>\n",
       "      <td>4</td>\n",
       "      <td>c</td>\n",
       "      <td>2016-06-02</td>\n",
       "      <td>11:06</td>\n",
       "      <td>0</td>\n",
       "      <td>NaN</td>\n",
       "      <td>기타 미용업</td>\n",
       "      <td>2000.000000</td>\n",
       "    </tr>\n",
       "    <tr>\n",
       "      <th>...</th>\n",
       "      <td>...</td>\n",
       "      <td>...</td>\n",
       "      <td>...</td>\n",
       "      <td>...</td>\n",
       "      <td>...</td>\n",
       "      <td>...</td>\n",
       "      <td>...</td>\n",
       "      <td>...</td>\n",
       "      <td>...</td>\n",
       "    </tr>\n",
       "    <tr>\n",
       "      <th>2019-02-28 23:20:00</th>\n",
       "      <td>2136</td>\n",
       "      <td>4663855</td>\n",
       "      <td>d</td>\n",
       "      <td>2019-02-28</td>\n",
       "      <td>23:20</td>\n",
       "      <td>0</td>\n",
       "      <td>제주 제주시</td>\n",
       "      <td>기타 주점업</td>\n",
       "      <td>-4500.000000</td>\n",
       "    </tr>\n",
       "    <tr>\n",
       "      <th>2019-02-28 23:24:00</th>\n",
       "      <td>2136</td>\n",
       "      <td>4663855</td>\n",
       "      <td>d</td>\n",
       "      <td>2019-02-28</td>\n",
       "      <td>23:24</td>\n",
       "      <td>0</td>\n",
       "      <td>제주 제주시</td>\n",
       "      <td>기타 주점업</td>\n",
       "      <td>4142.857143</td>\n",
       "    </tr>\n",
       "    <tr>\n",
       "      <th>2019-02-28 23:24:00</th>\n",
       "      <td>2136</td>\n",
       "      <td>4663489</td>\n",
       "      <td>a</td>\n",
       "      <td>2019-02-28</td>\n",
       "      <td>23:24</td>\n",
       "      <td>0</td>\n",
       "      <td>제주 제주시</td>\n",
       "      <td>기타 주점업</td>\n",
       "      <td>4500.000000</td>\n",
       "    </tr>\n",
       "    <tr>\n",
       "      <th>2019-02-28 23:27:00</th>\n",
       "      <td>2136</td>\n",
       "      <td>4663856</td>\n",
       "      <td>d</td>\n",
       "      <td>2019-02-28</td>\n",
       "      <td>23:27</td>\n",
       "      <td>0</td>\n",
       "      <td>제주 제주시</td>\n",
       "      <td>기타 주점업</td>\n",
       "      <td>571.428571</td>\n",
       "    </tr>\n",
       "    <tr>\n",
       "      <th>2019-02-28 23:54:00</th>\n",
       "      <td>2136</td>\n",
       "      <td>4658616</td>\n",
       "      <td>c</td>\n",
       "      <td>2019-02-28</td>\n",
       "      <td>23:54</td>\n",
       "      <td>0</td>\n",
       "      <td>제주 제주시</td>\n",
       "      <td>기타 주점업</td>\n",
       "      <td>5857.142857</td>\n",
       "    </tr>\n",
       "  </tbody>\n",
       "</table>\n",
       "<p>6556613 rows × 9 columns</p>\n",
       "</div>"
      ],
      "text/plain": [
       "                     store_id  card_id  ... type_of_business       amount\n",
       "date                                    ...                              \n",
       "2016-06-01 13:13:00         0        0  ...           기타 미용업  1857.142857\n",
       "2016-06-01 18:12:00         0        1  ...           기타 미용업   857.142857\n",
       "2016-06-01 18:52:00         0        2  ...           기타 미용업  2000.000000\n",
       "2016-06-01 20:22:00         0        3  ...           기타 미용업  7857.142857\n",
       "2016-06-02 11:06:00         0        4  ...           기타 미용업  2000.000000\n",
       "...                       ...      ...  ...              ...          ...\n",
       "2019-02-28 23:20:00      2136  4663855  ...           기타 주점업 -4500.000000\n",
       "2019-02-28 23:24:00      2136  4663855  ...           기타 주점업  4142.857143\n",
       "2019-02-28 23:24:00      2136  4663489  ...           기타 주점업  4500.000000\n",
       "2019-02-28 23:27:00      2136  4663856  ...           기타 주점업   571.428571\n",
       "2019-02-28 23:54:00      2136  4658616  ...           기타 주점업  5857.142857\n",
       "\n",
       "[6556613 rows x 9 columns]"
      ]
     },
     "execution_count": 19,
     "metadata": {
      "tags": []
     },
     "output_type": "execute_result"
    }
   ],
   "source": [
    "df_train"
   ]
  },
  {
   "cell_type": "code",
   "execution_count": 20,
   "metadata": {
    "colab": {
     "base_uri": "https://localhost:8080/",
     "height": 230
    },
    "id": "YLt2qeJzl5uh",
    "outputId": "daf45b10-67e3-4ddc-9eed-53f91f192393"
   },
   "outputs": [
    {
     "data": {
      "text/plain": [
       "DatetimeIndex(['2016-06-01 13:13:00', '2016-06-01 18:12:00',\n",
       "               '2016-06-01 18:52:00', '2016-06-01 20:22:00',\n",
       "               '2016-06-02 11:06:00', '2016-06-02 13:09:00',\n",
       "               '2016-06-02 15:33:00', '2016-06-02 17:18:00',\n",
       "               '2016-06-02 18:30:00', '2016-06-02 19:56:00',\n",
       "               ...\n",
       "               '2019-02-28 22:35:00', '2019-02-28 22:43:00',\n",
       "               '2019-02-28 22:45:00', '2019-02-28 23:03:00',\n",
       "               '2019-02-28 23:20:00', '2019-02-28 23:20:00',\n",
       "               '2019-02-28 23:24:00', '2019-02-28 23:24:00',\n",
       "               '2019-02-28 23:27:00', '2019-02-28 23:54:00'],\n",
       "              dtype='datetime64[ns]', name='date', length=6556613, freq=None)"
      ]
     },
     "execution_count": 20,
     "metadata": {
      "tags": []
     },
     "output_type": "execute_result"
    }
   ],
   "source": [
    "df_train.index"
   ]
  },
  {
   "cell_type": "code",
   "execution_count": 21,
   "metadata": {
    "colab": {
     "base_uri": "https://localhost:8080/",
     "height": 34
    },
    "id": "0CEXIm6ol7xD",
    "outputId": "19150d65-f735-428e-8f5c-6e22db27f63f"
   },
   "outputs": [
    {
     "name": "stderr",
     "output_type": "stream",
     "text": [
      "100%|██████████| 1967/1967 [00:31<00:00, 62.41it/s]\n"
     ]
    }
   ],
   "source": [
    "#월별로 resample\n",
    "data_month=pd.DataFrame()\n",
    "for i in tqdm(df_train.store_id.unique()):\n",
    "    data_num=df_train[df_train.store_id==i]\n",
    "    sum_amount=data_num['amount'].resample(rule='m').sum()\n",
    "    data_mon=pd.concat([sum_amount],axis=1)\n",
    "    data_mon.insert(0,'store_id',i)\n",
    "    data_month=pd.concat([data_month,data_mon],axis=0)\n",
    "    \n",
    "#data_month.head(10)"
   ]
  },
  {
   "cell_type": "code",
   "execution_count": 22,
   "metadata": {
    "colab": {
     "base_uri": "https://localhost:8080/",
     "height": 436
    },
    "id": "QGdfNzm-l9cU",
    "outputId": "86570720-a32b-47b5-bf46-589deeac99e6"
   },
   "outputs": [
    {
     "data": {
      "text/html": [
       "<div>\n",
       "<style scoped>\n",
       "    .dataframe tbody tr th:only-of-type {\n",
       "        vertical-align: middle;\n",
       "    }\n",
       "\n",
       "    .dataframe tbody tr th {\n",
       "        vertical-align: top;\n",
       "    }\n",
       "\n",
       "    .dataframe thead th {\n",
       "        text-align: right;\n",
       "    }\n",
       "</style>\n",
       "<table border=\"1\" class=\"dataframe\">\n",
       "  <thead>\n",
       "    <tr style=\"text-align: right;\">\n",
       "      <th></th>\n",
       "      <th>store_id</th>\n",
       "      <th>amount</th>\n",
       "    </tr>\n",
       "    <tr>\n",
       "      <th>date</th>\n",
       "      <th></th>\n",
       "      <th></th>\n",
       "    </tr>\n",
       "  </thead>\n",
       "  <tbody>\n",
       "    <tr>\n",
       "      <th>2016-06-30</th>\n",
       "      <td>0</td>\n",
       "      <td>7.470000e+05</td>\n",
       "    </tr>\n",
       "    <tr>\n",
       "      <th>2016-07-31</th>\n",
       "      <td>0</td>\n",
       "      <td>1.005000e+06</td>\n",
       "    </tr>\n",
       "    <tr>\n",
       "      <th>2016-08-31</th>\n",
       "      <td>0</td>\n",
       "      <td>8.715714e+05</td>\n",
       "    </tr>\n",
       "    <tr>\n",
       "      <th>2016-09-30</th>\n",
       "      <td>0</td>\n",
       "      <td>8.978571e+05</td>\n",
       "    </tr>\n",
       "    <tr>\n",
       "      <th>2016-10-31</th>\n",
       "      <td>0</td>\n",
       "      <td>8.354286e+05</td>\n",
       "    </tr>\n",
       "    <tr>\n",
       "      <th>...</th>\n",
       "      <td>...</td>\n",
       "      <td>...</td>\n",
       "    </tr>\n",
       "    <tr>\n",
       "      <th>2018-10-31</th>\n",
       "      <td>2136</td>\n",
       "      <td>2.012214e+06</td>\n",
       "    </tr>\n",
       "    <tr>\n",
       "      <th>2018-11-30</th>\n",
       "      <td>2136</td>\n",
       "      <td>2.135429e+06</td>\n",
       "    </tr>\n",
       "    <tr>\n",
       "      <th>2018-12-31</th>\n",
       "      <td>2136</td>\n",
       "      <td>2.427429e+06</td>\n",
       "    </tr>\n",
       "    <tr>\n",
       "      <th>2019-01-31</th>\n",
       "      <td>2136</td>\n",
       "      <td>1.873643e+06</td>\n",
       "    </tr>\n",
       "    <tr>\n",
       "      <th>2019-02-28</th>\n",
       "      <td>2136</td>\n",
       "      <td>2.227429e+06</td>\n",
       "    </tr>\n",
       "  </tbody>\n",
       "</table>\n",
       "<p>60915 rows × 2 columns</p>\n",
       "</div>"
      ],
      "text/plain": [
       "            store_id        amount\n",
       "date                              \n",
       "2016-06-30         0  7.470000e+05\n",
       "2016-07-31         0  1.005000e+06\n",
       "2016-08-31         0  8.715714e+05\n",
       "2016-09-30         0  8.978571e+05\n",
       "2016-10-31         0  8.354286e+05\n",
       "...              ...           ...\n",
       "2018-10-31      2136  2.012214e+06\n",
       "2018-11-30      2136  2.135429e+06\n",
       "2018-12-31      2136  2.427429e+06\n",
       "2019-01-31      2136  1.873643e+06\n",
       "2019-02-28      2136  2.227429e+06\n",
       "\n",
       "[60915 rows x 2 columns]"
      ]
     },
     "execution_count": 22,
     "metadata": {
      "tags": []
     },
     "output_type": "execute_result"
    }
   ],
   "source": [
    "data_month"
   ]
  },
  {
   "cell_type": "markdown",
   "metadata": {
    "id": "TUFVgE1-l_Yg"
   },
   "source": [
    "# **모델링:단순 이동평균(SMA)**"
   ]
  },
  {
   "cell_type": "code",
   "execution_count": 23,
   "metadata": {
    "id": "PcE-ueptmBwZ"
   },
   "outputs": [],
   "source": [
    "def sub(df, n):\n",
    "    concat_3mon=pd.DataFrame(index=pd.to_datetime(['2019-03-31','2019-04-30','2019-05-31']))\n",
    "    df_sma=pd.DataFrame(columns=['store_id', 'amount'])\n",
    "    \n",
    "    for i in data_month['store_id'].unique():\n",
    "        df_set=pd.DataFrame(df[df['store_id']==i].amount)\n",
    "        sma_train=pd.concat([df_set, concat_3mon], axis=0)\n",
    "        num = sma_train.amount.rolling(window=n,min_periods=1).mean().values[-3:].sum()\n",
    "        df_sma.loc[i, 'store_id']=i\n",
    "        df_sma.loc[i, 'amount']=num\n",
    "        \n",
    "    return df_sma"
   ]
  },
  {
   "cell_type": "code",
   "execution_count": 24,
   "metadata": {
    "id": "pT7TZe9imE68"
   },
   "outputs": [],
   "source": [
    "#함수 풀어 보기"
   ]
  },
  {
   "cell_type": "code",
   "execution_count": 25,
   "metadata": {
    "id": "U1PbalYQmKbK"
   },
   "outputs": [],
   "source": [
    "concat_3mon=pd.DataFrame(index=pd.to_datetime(['2019-03-31','2019-04-30','2019-05-31']))\n",
    " #예측값이 포함된 빈 데이터 프레임을 만들어 줍니다.\n",
    "df_set=pd.DataFrame(data_month[data_month['store_id']==2].amount) \n",
    "#store_id별 amount가 담긴 df_set데이터 프레임을 만들어 주고\n",
    "sma_train=pd.concat([df_set, concat_3mon], axis=0)\n",
    " #store_id별로 df_set에 concat_3mon을 합쳐줍니다"
   ]
  },
  {
   "cell_type": "code",
   "execution_count": 26,
   "metadata": {
    "colab": {
     "base_uri": "https://localhost:8080/",
     "height": 1000
    },
    "id": "NLkESEtcmNFm",
    "outputId": "944f8ba8-e155-413f-8c71-d7d28a0b0150"
   },
   "outputs": [
    {
     "data": {
      "text/html": [
       "<div>\n",
       "<style scoped>\n",
       "    .dataframe tbody tr th:only-of-type {\n",
       "        vertical-align: middle;\n",
       "    }\n",
       "\n",
       "    .dataframe tbody tr th {\n",
       "        vertical-align: top;\n",
       "    }\n",
       "\n",
       "    .dataframe thead th {\n",
       "        text-align: right;\n",
       "    }\n",
       "</style>\n",
       "<table border=\"1\" class=\"dataframe\">\n",
       "  <thead>\n",
       "    <tr style=\"text-align: right;\">\n",
       "      <th></th>\n",
       "      <th>amount</th>\n",
       "    </tr>\n",
       "  </thead>\n",
       "  <tbody>\n",
       "    <tr>\n",
       "      <th>2016-06-30</th>\n",
       "      <td>260714.285714</td>\n",
       "    </tr>\n",
       "    <tr>\n",
       "      <th>2016-07-31</th>\n",
       "      <td>82857.142857</td>\n",
       "    </tr>\n",
       "    <tr>\n",
       "      <th>2016-08-31</th>\n",
       "      <td>131428.571429</td>\n",
       "    </tr>\n",
       "    <tr>\n",
       "      <th>2016-09-30</th>\n",
       "      <td>142857.142857</td>\n",
       "    </tr>\n",
       "    <tr>\n",
       "      <th>2016-10-31</th>\n",
       "      <td>109714.285714</td>\n",
       "    </tr>\n",
       "    <tr>\n",
       "      <th>2016-11-30</th>\n",
       "      <td>198571.428571</td>\n",
       "    </tr>\n",
       "    <tr>\n",
       "      <th>2016-12-31</th>\n",
       "      <td>160000.000000</td>\n",
       "    </tr>\n",
       "    <tr>\n",
       "      <th>2017-01-31</th>\n",
       "      <td>180714.285714</td>\n",
       "    </tr>\n",
       "    <tr>\n",
       "      <th>2017-02-28</th>\n",
       "      <td>154285.714286</td>\n",
       "    </tr>\n",
       "    <tr>\n",
       "      <th>2017-03-31</th>\n",
       "      <td>43571.428571</td>\n",
       "    </tr>\n",
       "    <tr>\n",
       "      <th>2017-04-30</th>\n",
       "      <td>201428.571429</td>\n",
       "    </tr>\n",
       "    <tr>\n",
       "      <th>2017-05-31</th>\n",
       "      <td>186428.571429</td>\n",
       "    </tr>\n",
       "    <tr>\n",
       "      <th>2017-06-30</th>\n",
       "      <td>120571.428571</td>\n",
       "    </tr>\n",
       "    <tr>\n",
       "      <th>2017-07-31</th>\n",
       "      <td>207142.857143</td>\n",
       "    </tr>\n",
       "    <tr>\n",
       "      <th>2017-08-31</th>\n",
       "      <td>190000.000000</td>\n",
       "    </tr>\n",
       "    <tr>\n",
       "      <th>2017-09-30</th>\n",
       "      <td>232857.142857</td>\n",
       "    </tr>\n",
       "    <tr>\n",
       "      <th>2017-10-31</th>\n",
       "      <td>266714.285714</td>\n",
       "    </tr>\n",
       "    <tr>\n",
       "      <th>2017-11-30</th>\n",
       "      <td>252857.142857</td>\n",
       "    </tr>\n",
       "    <tr>\n",
       "      <th>2017-12-31</th>\n",
       "      <td>238571.428571</td>\n",
       "    </tr>\n",
       "    <tr>\n",
       "      <th>2018-01-31</th>\n",
       "      <td>299714.285714</td>\n",
       "    </tr>\n",
       "    <tr>\n",
       "      <th>2018-02-28</th>\n",
       "      <td>312857.142857</td>\n",
       "    </tr>\n",
       "    <tr>\n",
       "      <th>2018-03-31</th>\n",
       "      <td>189714.285714</td>\n",
       "    </tr>\n",
       "    <tr>\n",
       "      <th>2018-04-30</th>\n",
       "      <td>283571.428571</td>\n",
       "    </tr>\n",
       "    <tr>\n",
       "      <th>2018-05-31</th>\n",
       "      <td>472857.142857</td>\n",
       "    </tr>\n",
       "    <tr>\n",
       "      <th>2018-06-30</th>\n",
       "      <td>354285.714286</td>\n",
       "    </tr>\n",
       "    <tr>\n",
       "      <th>2018-07-31</th>\n",
       "      <td>689285.714286</td>\n",
       "    </tr>\n",
       "    <tr>\n",
       "      <th>2018-08-31</th>\n",
       "      <td>457857.142857</td>\n",
       "    </tr>\n",
       "    <tr>\n",
       "      <th>2018-09-30</th>\n",
       "      <td>480714.285714</td>\n",
       "    </tr>\n",
       "    <tr>\n",
       "      <th>2018-10-31</th>\n",
       "      <td>510000.000000</td>\n",
       "    </tr>\n",
       "    <tr>\n",
       "      <th>2018-11-30</th>\n",
       "      <td>185428.571429</td>\n",
       "    </tr>\n",
       "    <tr>\n",
       "      <th>2018-12-31</th>\n",
       "      <td>340714.285714</td>\n",
       "    </tr>\n",
       "    <tr>\n",
       "      <th>2019-01-31</th>\n",
       "      <td>407857.142857</td>\n",
       "    </tr>\n",
       "    <tr>\n",
       "      <th>2019-02-28</th>\n",
       "      <td>496857.142857</td>\n",
       "    </tr>\n",
       "    <tr>\n",
       "      <th>2019-03-31</th>\n",
       "      <td>NaN</td>\n",
       "    </tr>\n",
       "    <tr>\n",
       "      <th>2019-04-30</th>\n",
       "      <td>NaN</td>\n",
       "    </tr>\n",
       "    <tr>\n",
       "      <th>2019-05-31</th>\n",
       "      <td>NaN</td>\n",
       "    </tr>\n",
       "  </tbody>\n",
       "</table>\n",
       "</div>"
      ],
      "text/plain": [
       "                   amount\n",
       "2016-06-30  260714.285714\n",
       "2016-07-31   82857.142857\n",
       "2016-08-31  131428.571429\n",
       "2016-09-30  142857.142857\n",
       "2016-10-31  109714.285714\n",
       "2016-11-30  198571.428571\n",
       "2016-12-31  160000.000000\n",
       "2017-01-31  180714.285714\n",
       "2017-02-28  154285.714286\n",
       "2017-03-31   43571.428571\n",
       "2017-04-30  201428.571429\n",
       "2017-05-31  186428.571429\n",
       "2017-06-30  120571.428571\n",
       "2017-07-31  207142.857143\n",
       "2017-08-31  190000.000000\n",
       "2017-09-30  232857.142857\n",
       "2017-10-31  266714.285714\n",
       "2017-11-30  252857.142857\n",
       "2017-12-31  238571.428571\n",
       "2018-01-31  299714.285714\n",
       "2018-02-28  312857.142857\n",
       "2018-03-31  189714.285714\n",
       "2018-04-30  283571.428571\n",
       "2018-05-31  472857.142857\n",
       "2018-06-30  354285.714286\n",
       "2018-07-31  689285.714286\n",
       "2018-08-31  457857.142857\n",
       "2018-09-30  480714.285714\n",
       "2018-10-31  510000.000000\n",
       "2018-11-30  185428.571429\n",
       "2018-12-31  340714.285714\n",
       "2019-01-31  407857.142857\n",
       "2019-02-28  496857.142857\n",
       "2019-03-31            NaN\n",
       "2019-04-30            NaN\n",
       "2019-05-31            NaN"
      ]
     },
     "execution_count": 26,
     "metadata": {
      "tags": []
     },
     "output_type": "execute_result"
    }
   ],
   "source": [
    "#store_id 별 sma_train은 아래와 같습니다.\n",
    "sma_train"
   ]
  },
  {
   "cell_type": "code",
   "execution_count": 27,
   "metadata": {
    "id": "5vVmsivfmPTq"
   },
   "outputs": [],
   "source": [
    "#단순이동 평균기법을 사용해서 마지막 3일의 예측치를 구해줍니다.\n",
    "num = sma_train.amount.rolling(window=4, min_periods=1).mean()"
   ]
  },
  {
   "cell_type": "code",
   "execution_count": 28,
   "metadata": {
    "colab": {
     "base_uri": "https://localhost:8080/",
     "height": 674
    },
    "id": "3JGuVUU_mRGu",
    "outputId": "e78327e9-c4f7-4768-d3af-9f89bebbba3e"
   },
   "outputs": [
    {
     "data": {
      "text/plain": [
       "2016-06-30    260714.285714\n",
       "2016-07-31    171785.714286\n",
       "2016-08-31    158333.333333\n",
       "2016-09-30    154464.285714\n",
       "2016-10-31    116714.285714\n",
       "2016-11-30    145642.857143\n",
       "2016-12-31    152785.714286\n",
       "2017-01-31    162250.000000\n",
       "2017-02-28    173392.857143\n",
       "2017-03-31    134642.857143\n",
       "2017-04-30    145000.000000\n",
       "2017-05-31    146428.571429\n",
       "2017-06-30    138000.000000\n",
       "2017-07-31    178892.857143\n",
       "2017-08-31    176035.714286\n",
       "2017-09-30    187642.857143\n",
       "2017-10-31    224178.571429\n",
       "2017-11-30    235607.142857\n",
       "2017-12-31    247750.000000\n",
       "2018-01-31    264464.285714\n",
       "2018-02-28    276000.000000\n",
       "2018-03-31    260214.285714\n",
       "2018-04-30    271464.285714\n",
       "2018-05-31    314750.000000\n",
       "2018-06-30    325107.142857\n",
       "2018-07-31    450000.000000\n",
       "2018-08-31    493571.428571\n",
       "2018-09-30    495535.714286\n",
       "2018-10-31    534464.285714\n",
       "2018-11-30    408500.000000\n",
       "2018-12-31    379214.285714\n",
       "2019-01-31    361000.000000\n",
       "2019-02-28    357714.285714\n",
       "2019-03-31    415142.857143\n",
       "2019-04-30    452357.142857\n",
       "2019-05-31    496857.142857\n",
       "Name: amount, dtype: float64"
      ]
     },
     "execution_count": 28,
     "metadata": {
      "tags": []
     },
     "output_type": "execute_result"
    }
   ],
   "source": [
    "num"
   ]
  },
  {
   "cell_type": "code",
   "execution_count": 29,
   "metadata": {
    "colab": {
     "base_uri": "https://localhost:8080/",
     "height": 674
    },
    "id": "s3Ha4UDMmSqs",
    "outputId": "fc07a9c6-39c8-461d-fc73-34c34a94c1c4"
   },
   "outputs": [
    {
     "data": {
      "text/plain": [
       "2016-06-30              NaN\n",
       "2016-07-31              NaN\n",
       "2016-08-31              NaN\n",
       "2016-09-30    154464.285714\n",
       "2016-10-31    116714.285714\n",
       "2016-11-30    145642.857143\n",
       "2016-12-31    152785.714286\n",
       "2017-01-31    162250.000000\n",
       "2017-02-28    173392.857143\n",
       "2017-03-31    134642.857143\n",
       "2017-04-30    145000.000000\n",
       "2017-05-31    146428.571429\n",
       "2017-06-30    138000.000000\n",
       "2017-07-31    178892.857143\n",
       "2017-08-31    176035.714286\n",
       "2017-09-30    187642.857143\n",
       "2017-10-31    224178.571429\n",
       "2017-11-30    235607.142857\n",
       "2017-12-31    247750.000000\n",
       "2018-01-31    264464.285714\n",
       "2018-02-28    276000.000000\n",
       "2018-03-31    260214.285714\n",
       "2018-04-30    271464.285714\n",
       "2018-05-31    314750.000000\n",
       "2018-06-30    325107.142857\n",
       "2018-07-31    450000.000000\n",
       "2018-08-31    493571.428571\n",
       "2018-09-30    495535.714286\n",
       "2018-10-31    534464.285714\n",
       "2018-11-30    408500.000000\n",
       "2018-12-31    379214.285714\n",
       "2019-01-31    361000.000000\n",
       "2019-02-28    357714.285714\n",
       "2019-03-31              NaN\n",
       "2019-04-30              NaN\n",
       "2019-05-31              NaN\n",
       "Name: amount, dtype: float64"
      ]
     },
     "execution_count": 29,
     "metadata": {
      "tags": []
     },
     "output_type": "execute_result"
    }
   ],
   "source": [
    "#min_periods가 없다면 결측치가 발생합니다. 왜? 앞 뒤로 없기 때문에\n",
    "num = sma_train.amount.rolling(window=4).mean()\n",
    "num"
   ]
  },
  {
   "cell_type": "code",
   "execution_count": 30,
   "metadata": {
    "colab": {
     "base_uri": "https://localhost:8080/",
     "height": 34
    },
    "id": "VcXDlCKymUOO",
    "outputId": "2206409d-3588-4df1-f722-3de4e25e282a"
   },
   "outputs": [
    {
     "name": "stderr",
     "output_type": "stream",
     "text": [
      "100%|██████████| 3/3 [00:20<00:00,  6.96s/it]\n"
     ]
    }
   ],
   "source": [
    "for i in tqdm(range(4, 7)):\n",
    "    sma_sub = sub(data_month, i)\n",
    "    sma_sub.to_csv(f'funda_{i}sma_sub.csv',index=False)"
   ]
  },
  {
   "cell_type": "code",
   "execution_count": 31,
   "metadata": {
    "colab": {
     "base_uri": "https://localhost:8080/",
     "height": 406
    },
    "id": "voMTIQnOmWES",
    "outputId": "74f329c2-d2bb-41da-f821-3480a3977550"
   },
   "outputs": [
    {
     "data": {
      "text/html": [
       "<div>\n",
       "<style scoped>\n",
       "    .dataframe tbody tr th:only-of-type {\n",
       "        vertical-align: middle;\n",
       "    }\n",
       "\n",
       "    .dataframe tbody tr th {\n",
       "        vertical-align: top;\n",
       "    }\n",
       "\n",
       "    .dataframe thead th {\n",
       "        text-align: right;\n",
       "    }\n",
       "</style>\n",
       "<table border=\"1\" class=\"dataframe\">\n",
       "  <thead>\n",
       "    <tr style=\"text-align: right;\">\n",
       "      <th></th>\n",
       "      <th>store_id</th>\n",
       "      <th>amount</th>\n",
       "    </tr>\n",
       "  </thead>\n",
       "  <tbody>\n",
       "    <tr>\n",
       "      <th>0</th>\n",
       "      <td>0</td>\n",
       "      <td>NaN</td>\n",
       "    </tr>\n",
       "    <tr>\n",
       "      <th>1</th>\n",
       "      <td>1</td>\n",
       "      <td>NaN</td>\n",
       "    </tr>\n",
       "    <tr>\n",
       "      <th>2</th>\n",
       "      <td>2</td>\n",
       "      <td>NaN</td>\n",
       "    </tr>\n",
       "    <tr>\n",
       "      <th>4</th>\n",
       "      <td>4</td>\n",
       "      <td>NaN</td>\n",
       "    </tr>\n",
       "    <tr>\n",
       "      <th>5</th>\n",
       "      <td>5</td>\n",
       "      <td>NaN</td>\n",
       "    </tr>\n",
       "    <tr>\n",
       "      <th>...</th>\n",
       "      <td>...</td>\n",
       "      <td>...</td>\n",
       "    </tr>\n",
       "    <tr>\n",
       "      <th>2132</th>\n",
       "      <td>2132</td>\n",
       "      <td>NaN</td>\n",
       "    </tr>\n",
       "    <tr>\n",
       "      <th>2133</th>\n",
       "      <td>2133</td>\n",
       "      <td>NaN</td>\n",
       "    </tr>\n",
       "    <tr>\n",
       "      <th>2134</th>\n",
       "      <td>2134</td>\n",
       "      <td>NaN</td>\n",
       "    </tr>\n",
       "    <tr>\n",
       "      <th>2135</th>\n",
       "      <td>2135</td>\n",
       "      <td>NaN</td>\n",
       "    </tr>\n",
       "    <tr>\n",
       "      <th>2136</th>\n",
       "      <td>2136</td>\n",
       "      <td>NaN</td>\n",
       "    </tr>\n",
       "  </tbody>\n",
       "</table>\n",
       "<p>1967 rows × 2 columns</p>\n",
       "</div>"
      ],
      "text/plain": [
       "     store_id amount\n",
       "0           0    NaN\n",
       "1           1    NaN\n",
       "2           2    NaN\n",
       "4           4    NaN\n",
       "5           5    NaN\n",
       "...       ...    ...\n",
       "2132     2132    NaN\n",
       "2133     2133    NaN\n",
       "2134     2134    NaN\n",
       "2135     2135    NaN\n",
       "2136     2136    NaN\n",
       "\n",
       "[1967 rows x 2 columns]"
      ]
     },
     "execution_count": 31,
     "metadata": {
      "tags": []
     },
     "output_type": "execute_result"
    }
   ],
   "source": [
    "sub(data_month, 3)"
   ]
  },
  {
   "cell_type": "code",
   "execution_count": null,
   "metadata": {
    "id": "FSTjZCz9mbtp"
   },
   "outputs": [],
   "source": []
  }
 ],
 "metadata": {
  "colab": {
   "name": "러닝스푼스 베이스라인(코랩).ipynb",
   "provenance": [],
   "toc_visible": true
  },
  "kernelspec": {
   "display_name": "Python 3",
   "language": "python",
   "name": "python3"
  },
  "language_info": {
   "codemirror_mode": {
    "name": "ipython",
    "version": 3
   },
   "file_extension": ".py",
   "mimetype": "text/x-python",
   "name": "python",
   "nbconvert_exporter": "python",
   "pygments_lexer": "ipython3",
   "version": "3.8.8"
  }
 },
 "nbformat": 4,
 "nbformat_minor": 1
}
