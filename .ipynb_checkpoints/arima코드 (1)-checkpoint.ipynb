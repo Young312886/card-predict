{
 "cells": [
  {
   "cell_type": "code",
   "execution_count": 2,
   "id": "8610a259",
   "metadata": {
    "ExecuteTime": {
     "end_time": "2021-10-13T06:51:36.661701Z",
     "start_time": "2021-10-13T06:51:36.644312Z"
    }
   },
   "outputs": [],
   "source": [
    "import matplotlib.pyplot as plt\n",
    "import pmdarima as pm\n",
    "from statsmodels.tsa.seasonal import seasonal_decompose\n",
    "from sklearn.model_selection import train_test_split\n",
    "import statsmodels.api as sm\n",
    "from sklearn.metrics import mean_squared_error, r2_score\n",
    "from math import sqrt\n",
    "from statsmodels.tsa.arima.model import ARIMA\n",
    "import pandas as pd\n",
    "import numpy as np\n",
    "from tqdm import tqdm\n"
   ]
  },
  {
   "cell_type": "code",
   "execution_count": null,
   "id": "173bee55",
   "metadata": {},
   "outputs": [],
   "source": [
    "\n",
    "for i in tqdm(resampling_data['store_id'].unique()):\n",
    "    store = time_series(resampling_data[resampling_data['store_id']==i], i)\n",
    "    store = pd.DataFrame(store, columns = ['amount'])\n",
    "    store.reset_index(inplace = True)\n",
    "    store.rename(columns = {'index': 'date'}, inplace = True)\n",
    "    store  = store.set_index('date')\n",
    "    store = store.fillna(store.mean())\n",
    "    \n",
    "\n",
    "    \n",
    "    cv =  coefficient_variation(resampling_data, i)\n",
    "    try:\n",
    "        p_val = adf_test(store)\n",
    "        if p_val<0.05:\n",
    "            d = 0\n",
    "        else : \n",
    "            d =1\n",
    "    \n",
    "    \n",
    "        if cv <0.3 :\n",
    "            store.amount =np.log(store['amount'])\n",
    "            store_data_test = store.sample(n=3, random_state=20)\n",
    "            store_data_train = store.drop(store_data_test.index)\n",
    "        \n",
    "            auto_arima_model = auto_arima(store_data_train,start_p = 1, start_q = 1,\n",
    "                                      max_p =2,seasonal = False,\n",
    "                                      d=d,trace =True, error_action = 'ignore',\n",
    "                                     suppress_warnings = True,\n",
    "                                     stepwise =False,\n",
    "                                     )\n",
    "            model = ARIMA(store_data_train.amount.values, order= auto_arima_model.order)\n",
    "            model_fit = model.fit()\n",
    "            foreast_data =  model_fit.forecast(steps = 3)\n",
    "            \n",
    "            plt.title('forecast')\n",
    "            rmse =sqrt(mean_squared_error(pred_y, test_y))\n",
    "            print(rmse)\n",
    "        else :\n",
    "            store_data_test = store.sample(n=3, random_state=20)\n",
    "            store_data_train = store.drop(store_data_test.index)\n",
    "            auto_arima_model = auto_arima(store_data_train,start_p = 1, start_q = 1,\n",
    "                                      max_p = 2,seasonal = False,\n",
    "                                      d=d,trace =True, error_action = 'ignore',\n",
    "                                     suppress_warnings = True,\n",
    "                                     stepwise =False,\n",
    "                                     )\n",
    "            model = ARIMA(store_data_train.amount.values, order= auto_arima_model.order)\n",
    "            model_fit = model.fit()\n",
    "            foreast_data =  model_fit.forecast(steps = 3)\n",
    "            \n",
    "            plt.title('forecast')\n",
    "            rmse =sqrt(mean_squared_error(pred_y, test_y))\n",
    "            print(rmse)\n",
    "    except ValueError:\n",
    "        d = 2\n",
    "        if cv <0.3 :\n",
    "            store.amount =np.log(store['amount'])\n",
    "            store_data_test = store.sample(n=3, random_state=20)\n",
    "            store_data_train = store.drop(store_data_test.index)\n",
    "        \n",
    "            auto_arima_model = auto_arima(store_data_train,start_p = 1, start_q = 1,\n",
    "                                      max_p =2,seasonal = False,\n",
    "                                      d=d,trace =True, error_action = 'ignore',\n",
    "                                     suppress_warnings = True,\n",
    "                                     stepwise =False,\n",
    "                                     )\n",
    "            model = ARIMA(store_data_train.amount.values, order= auto_arima_model.order)\n",
    "            model_fit = model.fit()\n",
    "            foreast_data =  model_fit.forecast(steps = 3)\n",
    "            \n",
    "            plt.title('forecast')\n",
    "            rmse =sqrt(mean_squared_error(pred_y, test_y))\n",
    "            print(rmse)\n",
    "        else :\n",
    "            store_data_test = store.sample(n=3, random_state=20)\n",
    "            store_data_train = store.drop(store_data_test.index)\n",
    "            auto_arima_model = auto_arima(store_data_train,start_p = 1, start_q = 1,\n",
    "                                      max_p = 2,seasonal = False,\n",
    "                                      d=d,trace =True, error_action = 'ignore',\n",
    "                                     suppress_warnings = True,\n",
    "                                     stepwise =False,\n",
    "                                     )\n",
    "            model = ARIMA(store_data_train.amount.values, order= auto_arima_model.order)\n",
    "            model_fit = model.fit()\n",
    "            foreast_data =  model_fit.forecast(steps = 3)\n",
    "            \n",
    "            plt.title('forecast')\n",
    "            rmse =sqrt(mean_squared_error(pred_y, test_y))\n",
    "            print(rmse)\n",
    "        \n",
    "        \n",
    "    "
   ]
  }
 ],
 "metadata": {
  "kernelspec": {
   "display_name": "Python 3",
   "language": "python",
   "name": "python3"
  },
  "language_info": {
   "codemirror_mode": {
    "name": "ipython",
    "version": 3
   },
   "file_extension": ".py",
   "mimetype": "text/x-python",
   "name": "python",
   "nbconvert_exporter": "python",
   "pygments_lexer": "ipython3",
   "version": "3.8.8"
  },
  "toc": {
   "base_numbering": 1,
   "nav_menu": {},
   "number_sections": true,
   "sideBar": true,
   "skip_h1_title": false,
   "title_cell": "Table of Contents",
   "title_sidebar": "Contents",
   "toc_cell": false,
   "toc_position": {},
   "toc_section_display": true,
   "toc_window_display": false
  },
  "varInspector": {
   "cols": {
    "lenName": 16,
    "lenType": 16,
    "lenVar": 40
   },
   "kernels_config": {
    "python": {
     "delete_cmd_postfix": "",
     "delete_cmd_prefix": "del ",
     "library": "var_list.py",
     "varRefreshCmd": "print(var_dic_list())"
    },
    "r": {
     "delete_cmd_postfix": ") ",
     "delete_cmd_prefix": "rm(",
     "library": "var_list.r",
     "varRefreshCmd": "cat(var_dic_list()) "
    }
   },
   "types_to_exclude": [
    "module",
    "function",
    "builtin_function_or_method",
    "instance",
    "_Feature"
   ],
   "window_display": false
  }
 },
 "nbformat": 4,
 "nbformat_minor": 5
}
